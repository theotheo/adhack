{
 "cells": [
  {
   "cell_type": "code",
   "execution_count": 4,
   "metadata": {
    "ExecuteTime": {
     "end_time": "2017-08-26T20:45:18.588162Z",
     "start_time": "2017-08-26T20:45:18.532294Z"
    },
    "collapsed": true
   },
   "outputs": [],
   "source": [
    "#just showing you can import standard python libs\n",
    "\n",
    "import time \n",
    "import requests\n",
    "import cv2\n",
    "import operator\n",
    "import numpy as np\n",
    "import http.client, urllib.request, urllib.parse, urllib.error, base64, requests, json \n",
    "\n",
    "\n",
    "#Import library to display results\n",
    "# import matplotlib.pyplot as plt\n",
    "# %matplotlib inline \n",
    "\n",
    "\n",
    "#Subscribtion to Cognitive Services\n",
    "#Simply replace subscription key with your Cognitive API Subscription Key the key below is for Demo purpose only\n",
    "subscription_key = '8fa04488358e43ffbec4b11173fa42ca'\n",
    "uri_base = 'https://westeurope.api.cognitive.microsoft.com'  \n",
    "\n",
    "# Request headers."
   ]
  },
  {
   "cell_type": "code",
   "execution_count": 15,
   "metadata": {
    "ExecuteTime": {
     "end_time": "2017-08-26T21:13:55.517217Z",
     "start_time": "2017-08-26T21:13:55.361298Z"
    },
    "collapsed": true
   },
   "outputs": [],
   "source": [
    "\n",
    "\n",
    " \n",
    "#Enter URL of Images to be sampled by Cognitive Services\n",
    "\n",
    "#Example - Taylor Swift Image taken from web search\n",
    "\n",
    "# body = {'url': 'http://cdn1.theodysseyonline.com/files/2016/01/09/635879625800821251-1566784633_1taylorswift-mug.jpg'}\n",
    "#Example - Donald Trump\n",
    "\n",
    "#body = {'url': 'http://d.ibtimes.co.uk/en/full/1571929/donald-trump.jpg'}\n"
   ]
  },
  {
   "cell_type": "code",
   "execution_count": 14,
   "metadata": {
    "ExecuteTime": {
     "end_time": "2017-08-26T21:12:39.553909Z",
     "start_time": "2017-08-26T21:12:38.705389Z"
    }
   },
   "outputs": [
    {
     "name": "stdout",
     "output_type": "stream",
     "text": [
      "Response:\n",
      "[\n",
      "  {\n",
      "    \"faceAttributes\": {\n",
      "      \"accessories\": [],\n",
      "      \"age\": 24.2,\n",
      "      \"blur\": {\n",
      "        \"blurLevel\": \"low\",\n",
      "        \"value\": 0.23\n",
      "      },\n",
      "      \"emotion\": {\n",
      "        \"anger\": 0.001,\n",
      "        \"contempt\": 0.002,\n",
      "        \"disgust\": 0.001,\n",
      "        \"fear\": 0.0,\n",
      "        \"happiness\": 0.032,\n",
      "        \"neutral\": 0.781,\n",
      "        \"sadness\": 0.183,\n",
      "        \"surprise\": 0.0\n",
      "      },\n",
      "      \"exposure\": {\n",
      "        \"exposureLevel\": \"goodExposure\",\n",
      "        \"value\": 0.71\n",
      "      },\n",
      "      \"facialHair\": {\n",
      "        \"beard\": 0.2,\n",
      "        \"moustache\": 0.2,\n",
      "        \"sideburns\": 0.2\n",
      "      },\n",
      "      \"gender\": \"male\",\n",
      "      \"glasses\": \"NoGlasses\",\n",
      "      \"hair\": {\n",
      "        \"bald\": 0.01,\n",
      "        \"hairColor\": [\n",
      "          {\n",
      "            \"color\": \"brown\",\n",
      "            \"confidence\": 1.0\n",
      "          },\n",
      "          {\n",
      "            \"color\": \"black\",\n",
      "            \"confidence\": 0.8\n",
      "          },\n",
      "          {\n",
      "            \"color\": \"other\",\n",
      "            \"confidence\": 0.16\n",
      "          },\n",
      "          {\n",
      "            \"color\": \"gray\",\n",
      "            \"confidence\": 0.11\n",
      "          },\n",
      "          {\n",
      "            \"color\": \"blond\",\n",
      "            \"confidence\": 0.09\n",
      "          },\n",
      "          {\n",
      "            \"color\": \"red\",\n",
      "            \"confidence\": 0.04\n",
      "          }\n",
      "        ],\n",
      "        \"invisible\": false\n",
      "      },\n",
      "      \"headPose\": {\n",
      "        \"pitch\": 0.0,\n",
      "        \"roll\": 7.0,\n",
      "        \"yaw\": 19.4\n",
      "      },\n",
      "      \"makeup\": {\n",
      "        \"eyeMakeup\": true,\n",
      "        \"lipMakeup\": false\n",
      "      },\n",
      "      \"noise\": {\n",
      "        \"noiseLevel\": \"low\",\n",
      "        \"value\": 0.0\n",
      "      },\n",
      "      \"occlusion\": {\n",
      "        \"eyeOccluded\": false,\n",
      "        \"foreheadOccluded\": false,\n",
      "        \"mouthOccluded\": true\n",
      "      },\n",
      "      \"smile\": 0.032\n",
      "    },\n",
      "    \"faceId\": \"1e15ea8a-e3ea-412e-970a-b1882c1d2ea4\",\n",
      "    \"faceRectangle\": {\n",
      "      \"height\": 232,\n",
      "      \"left\": 190,\n",
      "      \"top\": 344,\n",
      "      \"width\": 232\n",
      "    }\n",
      "  }\n",
      "]\n"
     ]
    }
   ],
   "source": [
    "headers = {\n",
    "#     'Content-Type': 'application/json',\n",
    "    'Content-Type': 'application/octet-stream',\n",
    "    'Ocp-Apim-Subscription-Key': subscription_key,\n",
    "}\n",
    "\n",
    "# Request parameters.\n",
    "params = {\n",
    "    'returnFaceId': 'true',\n",
    "    'returnFaceLandmarks': 'false',\n",
    "#     'returnFaceAttributes': 'age,gender,headPose,smile,facialHair,glasses,emotion,hair,makeup,occlusion,accessories,blur,exposure,noise',\n",
    "    'returnFaceAttributes': 'age,gender'\n",
    "}\n",
    "\n",
    "try:\n",
    "    # Execute the REST API call and get the response.\n",
    "    fn = '/home/i/LABS/adhack/vasya.jpg'\n",
    "    fn = '/home/i/LABS/adhack/oleg.jpg'\n",
    "#     fn = '/home/i/LABS/adhack/olya.jpg'\n",
    "    img = open(fn, 'rb')\n",
    "    response = requests.post(uri_base + '/face/v1.0/detect', data=img, headers=headers, params=params)\n",
    "#     response = requests.request('POST', uri_base + '/face/v1.0/detect', json=body,data=None, headers=headers, params=params)\n",
    "\n",
    "    print ('Response:')\n",
    "    parsed = json.loads(response.text)\n",
    "\n",
    "    print (json.dumps(parsed, sort_keys=True, indent=2))\n",
    "    \n",
    "except Exception as e:\n",
    "    print('Error:')\n",
    "    print(e)"
   ]
  }
 ],
 "metadata": {
  "kernelspec": {
   "display_name": "Python 3",
   "language": "python",
   "name": "python3"
  },
  "language_info": {
   "codemirror_mode": {
    "name": "ipython",
    "version": 3
   },
   "file_extension": ".py",
   "mimetype": "text/x-python",
   "name": "python",
   "nbconvert_exporter": "python",
   "pygments_lexer": "ipython3",
   "version": "3.5.2"
  },
  "toc": {
   "colors": {
    "hover_highlight": "#DAA520",
    "running_highlight": "#FF0000",
    "selected_highlight": "#FFD700"
   },
   "moveMenuLeft": true,
   "nav_menu": {
    "height": "2px",
    "width": "252px"
   },
   "navigate_menu": true,
   "number_sections": true,
   "sideBar": true,
   "threshold": 4,
   "toc_cell": false,
   "toc_section_display": "block",
   "toc_window_display": false,
   "widenNotebook": false
  }
 },
 "nbformat": 4,
 "nbformat_minor": 2
}
