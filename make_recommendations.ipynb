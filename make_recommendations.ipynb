{
 "cells": [
  {
   "cell_type": "code",
   "execution_count": 39,
   "metadata": {
    "ExecuteTime": {
     "end_time": "2017-08-27T08:30:58.867020Z",
     "start_time": "2017-08-27T08:30:58.820035Z"
    },
    "collapsed": true
   },
   "outputs": [],
   "source": [
    "import pandas as pd\n",
    "import numpy as np\n",
    "from glob import glob"
   ]
  },
  {
   "cell_type": "code",
   "execution_count": 38,
   "metadata": {
    "ExecuteTime": {
     "end_time": "2017-08-27T08:30:45.912508Z",
     "start_time": "2017-08-27T08:30:45.143089Z"
    }
   },
   "outputs": [],
   "source": [
    "fn = 'data/igoods/sales_products.json'\n",
    "sales = pd.read_json(fn)['data'].apply(pd.Series).T['list'].apply(pd.Series)\n",
    "sales = pd.concat([sales , sales['image'].apply(pd.Series)], axis=1)\n",
    "sales = sales[['name', 'price', 'weight', 'medium']]\n",
    "sales['gender'] = None\n",
    "sales['age'] = None\n",
    "sales['group'] = None\n",
    "sales.to_excel('data/igoods/sales.xls', index=False)"
   ]
  },
  {
   "cell_type": "code",
   "execution_count": 45,
   "metadata": {
    "ExecuteTime": {
     "end_time": "2017-08-27T08:40:02.185720Z",
     "start_time": "2017-08-27T08:40:01.827680Z"
    }
   },
   "outputs": [
    {
     "name": "stdout",
     "output_type": "stream",
     "text": [
      "data/igoods/ks/92788.json\n",
      "data/igoods/ks/82387.json\n",
      "error\n",
      "data/igoods/ks/82918.json\n",
      "error\n",
      "data/igoods/ks/75007.json\n",
      "data/igoods/ks/98214.json\n",
      "data/igoods/ks/95410.json\n",
      "data/igoods/ks/92643.json\n",
      "error\n",
      "data/igoods/ks/71486.json\n",
      "data/igoods/ks/79865.json\n"
     ]
    }
   ],
   "source": [
    "dfs = []\n",
    "for fn in glob('data/igoods/ks/*'):\n",
    "    print(fn)\n",
    "    try:\n",
    "        df = pd.read_json(fn)['data'].apply(pd.Series).T['list'].apply(pd.Series)\n",
    "        df = pd.concat([df , df['image'].apply(pd.Series)], axis=1)\n",
    "        df = df[['name', 'price', 'weight', 'medium']]\n",
    "        dfs.append(df)\n",
    "    except KeyError:\n",
    "        print('error')\n",
    "pd.concat(dfs, axis=0).to_excel('data/igoods/personal.xls', index=False)"
   ]
  },
  {
   "cell_type": "code",
   "execution_count": 2,
   "metadata": {
    "ExecuteTime": {
     "end_time": "2017-08-27T02:15:10.456356Z",
     "start_time": "2017-08-27T02:15:10.332592Z"
    }
   },
   "outputs": [
    {
     "data": {
      "text/plain": [
       "Index(['amount', 'available', 'can_added_in_order', 'comment', 'composition',\n",
       "       'currency', 'display_weight', 'favorite', 'group_quantity', 'id',\n",
       "       'image', 'info', 'item_weight', 'model_id', 'name', 'package', 'price',\n",
       "       'price_per_kg', 'shop_id', 'special_type', 'type',\n",
       "       'unit_in_price_per_kg', 'weight', 'large', 'medium', 'small'],\n",
       "      dtype='object')"
      ]
     },
     "execution_count": 2,
     "metadata": {},
     "output_type": "execute_result"
    }
   ],
   "source": [
    "fn = 'data/igoods/zisman/75012.json'\n",
    "basket = pd.read_json(fn)['data'].apply(pd.Series).T['list'].apply(pd.Series)\n",
    "basket = pd.concat([basket, basket['image'].apply(pd.Series)], axis=1)\n",
    "basket.columns\n",
    "basket = basket[['name', 'price', 'weight', 'medium']]"
   ]
  },
  {
   "cell_type": "code",
   "execution_count": 32,
   "metadata": {
    "ExecuteTime": {
     "end_time": "2017-08-27T01:37:57.066068Z",
     "start_time": "2017-08-27T01:37:57.034585Z"
    }
   },
   "outputs": [
    {
     "name": "stdout",
     "output_type": "stream",
     "text": [
      "Overwriting basket.html\n"
     ]
    }
   ],
   "source": [
    "%%writefile basket.html\n",
    "{% for key,value in x.iterrows() %}\n",
    "      <img src=\"https://igooods.ru/{{ value['medium'] }}\" width=\"100px\">\n",
    "{% endfor %}"
   ]
  },
  {
   "cell_type": "code",
   "execution_count": 42,
   "metadata": {
    "ExecuteTime": {
     "end_time": "2017-08-27T01:51:12.811394Z",
     "start_time": "2017-08-27T01:51:12.776634Z"
    }
   },
   "outputs": [
    {
     "name": "stdout",
     "output_type": "stream",
     "text": [
      "Overwriting card.html\n"
     ]
    }
   ],
   "source": [
    "%%writefile card.html\n",
    "<!--Card Light-->\n",
    "{% for key,value in x.iterrows() %}\n",
    "<div class=\"card\">\n",
    "    <!--Card image-->\n",
    "    <div class=\"view overlay hm-white-slight\">\n",
    "        <img src=\"https://igooods.ru/{{ value['medium'] }}\" class=\"img-fluid\" alt=\"\">\n",
    "        <a>\n",
    "            <div class=\"mask\"></div>\n",
    "        </a>\n",
    "    </div>\n",
    "    <!--/.Card image-->\n",
    "    <!--Card content-->\n",
    "    <div class=\"card-body\">\n",
    "        <!--Social shares button-->\n",
    "        <a class=\"activator\"><i class=\"fa fa-share-alt\"></i></a>\n",
    "        <!--Title-->\n",
    "        <h4 class=\"card-title\">{{ value['name'] }}</h4>\n",
    "        <hr>\n",
    "        <!--Text-->\n",
    "        <p class=\"card-text\">Some quick example text to build on the card title and make up the bulk of the card's content.</p>\n",
    "        <!--<a href=\"#\" class=\"black-text d-flex flex-row-reverse\">\n",
    "            <h5 class=\"waves-effect p-2\">Read more <i class=\"fa fa-chevron-right\"></i></h5>\n",
    "        </a>-->\n",
    "    </div>\n",
    "    <!--/.Card content-->\n",
    "</div>\n",
    "<!--/.Card Light-->\n",
    "                        \n",
    "{% endfor %}  "
   ]
  },
  {
   "cell_type": "markdown",
   "metadata": {},
   "source": [
    "### Empty"
   ]
  },
  {
   "cell_type": "code",
   "execution_count": 97,
   "metadata": {
    "ExecuteTime": {
     "end_time": "2017-08-27T09:23:19.430485Z",
     "start_time": "2017-08-27T09:23:19.256173Z"
    }
   },
   "outputs": [
    {
     "name": "stdout",
     "output_type": "stream",
     "text": [
      "Overwriting empty.html\n"
     ]
    }
   ],
   "source": [
    "%%writefile empty.html\n",
    "<!DOCTYPE html>\n",
    "<html lang=\"en\">\n",
    "\n",
    "<head>\n",
    "    <meta charset=\"utf-8\">\n",
    "    <meta name=\"viewport\" content=\"width=device-width, initial-scale=1, shrink-to-fit=no\">\n",
    "    <meta http-equiv=\"x-ua-compatible\" content=\"ie=edge\">\n",
    "    <title>Material Design Bootstrap</title>\n",
    "    <!-- Font Awesome -->\n",
    "    <link rel=\"stylesheet\" href=\"https://maxcdn.bootstrapcdn.com/font-awesome/4.6.0/css/font-awesome.min.css\">\n",
    "    <!-- Bootstrap core CSS -->\n",
    "    <link href=\"css/bootstrap.min.css\" rel=\"stylesheet\">\n",
    "    <!-- Material Design Bootstrap -->\n",
    "    <!-- <link href=\"css/mdb.min.css\" rel=\"stylesheet\"> -->\n",
    "    <link href=\"https://mdbootstrap.com/wp-content/themes/mdbootstrap4/css/compiled.min.css?ver=4.4.0\" rel=\"stylesheet\">\n",
    "    <!-- Your custom styles (optional) -->\n",
    "    <link href=\"css/style.css\" rel=\"stylesheet\">\n",
    "</head>\n",
    "\n",
    "<body>\n",
    "\n",
    "    <!-- Start your project here-->\n",
    "    <div style=\"height: 100\" >\n",
    "        <div class=\"row\">\n",
    "            <!--Card Light-->\n",
    "            {% for key,value in x.iterrows() %}\n",
    "            <div class=\"card col-4\" style=\"height: 450px;\">\n",
    "               {% if value['kind'] %}\n",
    "                  <a class=\"btn-floating btn-action\" style=\"top:80px; right: 140px; font-size:80px; width: 120px; height: 120px\"><i class=\"fa fa-{{ value['kind']}}\" style=\"font-size:80px; line-height: 110px;\"></i></a>\n",
    "               {% endif %}\n",
    "                <!--Card image-->\n",
    "                <div class=\"view overlay hm-white-slight\" style=\"height: 250px\">\n",
    "                          \n",
    "\n",
    "                </div>\n",
    "                <!--/.Card image-->\n",
    "                \n",
    "                <!--Card content-->\n",
    "                <div class=\"card-body\">\n",
    "                    <!--Social shares button-->\n",
    "                    <a class=\"activator\"><i class=\"fa fa-share-alt\"></i></a>\n",
    "                    <!--Title-->\n",
    "                    <h4 class=\"card-title\">XXX &#8381;</h4>\n",
    "                    <hr>\n",
    "                    <!--Text-->\n",
    "                    <p class=\"card-text\">Товар</p>\n",
    "                    <!--<a href=\"#\" class=\"black-text d-flex flex-row-reverse\">\n",
    "                        <h5 class=\"waves-effect p-2\">Read more <i class=\"fa fa-chevron-right\"></i></h5>\n",
    "                    </a>-->\n",
    "                </div>\n",
    "                <!--/.Card content-->\n",
    "            </div>\n",
    "            <!--/.Card Light-->\n",
    "                        \n",
    "{% endfor %} \n",
    "    </div>\n",
    "    <!-- /Start your project here-->\n",
    "\n",
    "    <!-- SCRIPTS -->\n",
    "    <!-- JQuery -->\n",
    "    <script type=\"text/javascript\" src=\"js/jquery-3.1.1.min.js\"></script>\n",
    "    <!-- Bootstrap tooltips -->\n",
    "    <script type=\"text/javascript\" src=\"js/popper.min.js\"></script>\n",
    "    <!-- Bootstrap core JavaScript -->\n",
    "    <script type=\"text/javascript\" src=\"js/bootstrap.min.js\"></script>\n",
    "    <!-- MDB core JavaScript -->\n",
    "    <script type=\"text/javascript\" src=\"js/mdb.min.js\"></script>\n",
    "</body>"
   ]
  },
  {
   "cell_type": "markdown",
   "metadata": {
    "ExecuteTime": {
     "end_time": "2017-08-27T09:13:33.157450Z",
     "start_time": "2017-08-27T09:13:33.123272Z"
    }
   },
   "source": [
    "#### Strangers-male"
   ]
  },
  {
   "cell_type": "code",
   "execution_count": 103,
   "metadata": {
    "ExecuteTime": {
     "end_time": "2017-08-27T09:30:36.278499Z",
     "start_time": "2017-08-27T09:30:35.956690Z"
    }
   },
   "outputs": [
    {
     "name": "stderr",
     "output_type": "stream",
     "text": [
      "/home/i/.local/lib/python3.5/site-packages/ipykernel_launcher.py:8: SettingWithCopyWarning: \n",
      "A value is trying to be set on a copy of a slice from a DataFrame\n",
      "\n",
      "See the caveats in the documentation: http://pandas.pydata.org/pandas-docs/stable/indexing.html#indexing-view-versus-copy\n",
      "  \n",
      "/home/i/.local/lib/python3.5/site-packages/ipykernel_launcher.py:9: SettingWithCopyWarning: \n",
      "A value is trying to be set on a copy of a slice from a DataFrame\n",
      "\n",
      "See the caveats in the documentation: http://pandas.pydata.org/pandas-docs/stable/indexing.html#indexing-view-versus-copy\n",
      "  if __name__ == '__main__':\n"
     ]
    },
    {
     "data": {
      "text/plain": [
       "16637"
      ]
     },
     "execution_count": 103,
     "metadata": {},
     "output_type": "execute_result"
    }
   ],
   "source": [
    "from jinja2 import Environment, FileSystemLoader\n",
    "env = Environment(loader=FileSystemLoader('.'))\n",
    "template = env.get_template(\"empty.html\")\n",
    "\n",
    "top = sales.sample(12)\n",
    "kind = 'mars'\n",
    "top['kind'] = None\n",
    "top['kind'][:9] = 'mars'\n",
    "top['kind'][9:] = 'bolt'\n",
    "top = top.sample(12)\n",
    "html = template.render({'x': top})\n",
    "with open('static/MDB-Free/strangers-male.html', 'w') as f:\n",
    "    f.write(html)"
   ]
  },
  {
   "cell_type": "markdown",
   "metadata": {},
   "source": [
    "#### familiar"
   ]
  },
  {
   "cell_type": "code",
   "execution_count": 99,
   "metadata": {
    "ExecuteTime": {
     "end_time": "2017-08-27T09:23:23.501436Z",
     "start_time": "2017-08-27T09:23:23.238596Z"
    }
   },
   "outputs": [
    {
     "name": "stderr",
     "output_type": "stream",
     "text": [
      "/home/i/.local/lib/python3.5/site-packages/ipykernel_launcher.py:4: SettingWithCopyWarning: \n",
      "A value is trying to be set on a copy of a slice from a DataFrame\n",
      "\n",
      "See the caveats in the documentation: http://pandas.pydata.org/pandas-docs/stable/indexing.html#indexing-view-versus-copy\n",
      "  after removing the cwd from sys.path.\n",
      "/home/i/.local/lib/python3.5/site-packages/ipykernel_launcher.py:5: SettingWithCopyWarning: \n",
      "A value is trying to be set on a copy of a slice from a DataFrame\n",
      "\n",
      "See the caveats in the documentation: http://pandas.pydata.org/pandas-docs/stable/indexing.html#indexing-view-versus-copy\n",
      "  \"\"\"\n",
      "/home/i/.local/lib/python3.5/site-packages/ipykernel_launcher.py:6: SettingWithCopyWarning: \n",
      "A value is trying to be set on a copy of a slice from a DataFrame\n",
      "\n",
      "See the caveats in the documentation: http://pandas.pydata.org/pandas-docs/stable/indexing.html#indexing-view-versus-copy\n",
      "  \n"
     ]
    },
    {
     "data": {
      "text/plain": [
       "16625"
      ]
     },
     "execution_count": 99,
     "metadata": {},
     "output_type": "execute_result"
    }
   ],
   "source": [
    "top = sales.sample(12)\n",
    "# kind = 'mars'\n",
    "top['kind'] = None\n",
    "top['kind'][:3] = 'mars'\n",
    "top['kind'][3:9] = 'vk'\n",
    "top['kind'][9:] = 'bolt'\n",
    "top = top.sample(12)\n",
    "html = template.render({'x': top})\n",
    "with open('static/MDB-Free/familiar.html', 'w') as f:\n",
    "    f.write(html)"
   ]
  },
  {
   "cell_type": "markdown",
   "metadata": {},
   "source": [
    "#### Friend"
   ]
  },
  {
   "cell_type": "code",
   "execution_count": 100,
   "metadata": {
    "ExecuteTime": {
     "end_time": "2017-08-27T09:23:25.120811Z",
     "start_time": "2017-08-27T09:23:24.904664Z"
    }
   },
   "outputs": [
    {
     "name": "stderr",
     "output_type": "stream",
     "text": [
      "/home/i/.local/lib/python3.5/site-packages/ipykernel_launcher.py:4: SettingWithCopyWarning: \n",
      "A value is trying to be set on a copy of a slice from a DataFrame\n",
      "\n",
      "See the caveats in the documentation: http://pandas.pydata.org/pandas-docs/stable/indexing.html#indexing-view-versus-copy\n",
      "  after removing the cwd from sys.path.\n",
      "/home/i/.local/lib/python3.5/site-packages/ipykernel_launcher.py:5: SettingWithCopyWarning: \n",
      "A value is trying to be set on a copy of a slice from a DataFrame\n",
      "\n",
      "See the caveats in the documentation: http://pandas.pydata.org/pandas-docs/stable/indexing.html#indexing-view-versus-copy\n",
      "  \"\"\"\n",
      "/home/i/.local/lib/python3.5/site-packages/ipykernel_launcher.py:6: SettingWithCopyWarning: \n",
      "A value is trying to be set on a copy of a slice from a DataFrame\n",
      "\n",
      "See the caveats in the documentation: http://pandas.pydata.org/pandas-docs/stable/indexing.html#indexing-view-versus-copy\n",
      "  \n"
     ]
    },
    {
     "data": {
      "text/plain": [
       "16419"
      ]
     },
     "execution_count": 100,
     "metadata": {},
     "output_type": "execute_result"
    }
   ],
   "source": [
    "top = sales.sample(12)\n",
    "# kind = 'mars'\n",
    "top['kind'] = None\n",
    "top['kind'][:3] = 'vk'\n",
    "top['kind'][3:11] = 'heart'\n",
    "top['kind'][11] = 'bolt'\n",
    "top = top.sample(12)\n",
    "html = template.render({'x': top})\n",
    "with open('static/MDB-Free/friend.html', 'w') as f:\n",
    "    f.write(html)"
   ]
  },
  {
   "cell_type": "markdown",
   "metadata": {},
   "source": [
    "### Template"
   ]
  },
  {
   "cell_type": "code",
   "execution_count": 31,
   "metadata": {
    "ExecuteTime": {
     "end_time": "2017-08-27T02:32:38.352543Z",
     "start_time": "2017-08-27T02:32:38.319570Z"
    }
   },
   "outputs": [
    {
     "name": "stdout",
     "output_type": "stream",
     "text": [
      "Overwriting template.html\n"
     ]
    }
   ],
   "source": [
    "%%writefile template.html\n",
    "<!DOCTYPE html>\n",
    "<html lang=\"en\">\n",
    "\n",
    "<head>\n",
    "    <meta charset=\"utf-8\">\n",
    "    <meta name=\"viewport\" content=\"width=device-width, initial-scale=1, shrink-to-fit=no\">\n",
    "    <meta http-equiv=\"x-ua-compatible\" content=\"ie=edge\">\n",
    "    <title>Material Design Bootstrap</title>\n",
    "    <!-- Font Awesome -->\n",
    "    <link rel=\"stylesheet\" href=\"https://maxcdn.bootstrapcdn.com/font-awesome/4.6.0/css/font-awesome.min.css\">\n",
    "    <!-- Bootstrap core CSS -->\n",
    "    <link href=\"css/bootstrap.min.css\" rel=\"stylesheet\">\n",
    "    <!-- Material Design Bootstrap -->\n",
    "    <!-- <link href=\"css/mdb.min.css\" rel=\"stylesheet\"> -->\n",
    "    <link href=\"https://mdbootstrap.com/wp-content/themes/mdbootstrap4/css/compiled.min.css?ver=4.4.0\" rel=\"stylesheet\">\n",
    "    <!-- Your custom styles (optional) -->\n",
    "    <link href=\"css/style.css\" rel=\"stylesheet\">\n",
    "</head>\n",
    "\n",
    "<body>\n",
    "\n",
    "    <!-- Start your project here-->\n",
    "    <div style=\"height: 100\" >\n",
    "        <div class=\"row\">\n",
    "            <!--Card Light-->\n",
    "            {% for key,value in x.iterrows() %}\n",
    "            <div class=\"card col-4\">\n",
    "               {% if value['kind'] %}\n",
    "                  <a class=\"btn-floating btn-action\" style=\"top:40px;\"><i class=\"fa fa-{{ value['kind']}}\"></i></a>\n",
    "               {% endif %}\n",
    "                <!--Card image-->\n",
    "                <div class=\"view overlay hm-white-slight\">\n",
    "                          \n",
    "                    <img src=\"https://igooods.ru/{{ value['medium'] }}\" height=\"80px\" class=\"img-fluid\" alt=\"\">\n",
    "                    <a>\n",
    "                        <div class=\"mask\"></div>\n",
    "                    </a>\n",
    "                </div>\n",
    "                <!--/.Card image-->\n",
    "                \n",
    "                <!--Card content-->\n",
    "                <div class=\"card-body\">\n",
    "                    <!--Social shares button-->\n",
    "                    <a class=\"activator\"><i class=\"fa fa-share-alt\"></i></a>\n",
    "                    <!--Title-->\n",
    "                    <h4 class=\"card-title\">{{ value['price'] }} &#8381;</h4>\n",
    "                    <hr>\n",
    "                    <!--Text-->\n",
    "                    <p class=\"card-text\">{{ value['name'] }}</p>\n",
    "                    <!--<a href=\"#\" class=\"black-text d-flex flex-row-reverse\">\n",
    "                        <h5 class=\"waves-effect p-2\">Read more <i class=\"fa fa-chevron-right\"></i></h5>\n",
    "                    </a>-->\n",
    "                </div>\n",
    "                <!--/.Card content-->\n",
    "            </div>\n",
    "            <!--/.Card Light-->\n",
    "                        \n",
    "{% endfor %} \n",
    "    </div>\n",
    "    <!-- /Start your project here-->\n",
    "\n",
    "    <!-- SCRIPTS -->\n",
    "    <!-- JQuery -->\n",
    "    <script type=\"text/javascript\" src=\"js/jquery-3.1.1.min.js\"></script>\n",
    "    <!-- Bootstrap tooltips -->\n",
    "    <script type=\"text/javascript\" src=\"js/popper.min.js\"></script>\n",
    "    <!-- Bootstrap core JavaScript -->\n",
    "    <script type=\"text/javascript\" src=\"js/bootstrap.min.js\"></script>\n",
    "    <!-- MDB core JavaScript -->\n",
    "    <script type=\"text/javascript\" src=\"js/mdb.min.js\"></script>\n",
    "</body>"
   ]
  },
  {
   "cell_type": "code",
   "execution_count": 102,
   "metadata": {
    "ExecuteTime": {
     "end_time": "2017-08-27T09:28:09.756292Z",
     "start_time": "2017-08-27T09:28:09.500559Z"
    }
   },
   "outputs": [
    {
     "name": "stderr",
     "output_type": "stream",
     "text": [
      "/home/i/.local/lib/python3.5/site-packages/ipykernel_launcher.py:7: SettingWithCopyWarning: \n",
      "A value is trying to be set on a copy of a slice from a DataFrame\n",
      "\n",
      "See the caveats in the documentation: http://pandas.pydata.org/pandas-docs/stable/indexing.html#indexing-view-versus-copy\n",
      "  import sys\n",
      "/home/i/.local/lib/python3.5/site-packages/ipykernel_launcher.py:8: SettingWithCopyWarning: \n",
      "A value is trying to be set on a copy of a slice from a DataFrame\n",
      "\n",
      "See the caveats in the documentation: http://pandas.pydata.org/pandas-docs/stable/indexing.html#indexing-view-versus-copy\n",
      "  \n",
      "/home/i/.local/lib/python3.5/site-packages/ipykernel_launcher.py:9: SettingWithCopyWarning: \n",
      "A value is trying to be set on a copy of a slice from a DataFrame\n",
      "\n",
      "See the caveats in the documentation: http://pandas.pydata.org/pandas-docs/stable/indexing.html#indexing-view-versus-copy\n",
      "  if __name__ == '__main__':\n"
     ]
    },
    {
     "data": {
      "text/plain": [
       "17891"
      ]
     },
     "execution_count": 102,
     "metadata": {},
     "output_type": "execute_result"
    }
   ],
   "source": [
    "from jinja2 import Environment, FileSystemLoader\n",
    "env = Environment(loader=FileSystemLoader('.'))\n",
    "template = env.get_template(\"template.html\")\n",
    "\n",
    "top = basket.sample(12)\n",
    "top['kind'] = None\n",
    "top['kind'][:3] = 'heart'\n",
    "top['kind'][3:6] = 'bolt'\n",
    "top['kind'][9:] = 'bolt'\n",
    "top = top.sample(12)\n",
    "html = template.render({'x': top})\n",
    "with open('static/MDB-Free/recommendations.html', 'w') as f:\n",
    "    f.write(html)"
   ]
  },
  {
   "cell_type": "code",
   "execution_count": null,
   "metadata": {
    "collapsed": true
   },
   "outputs": [],
   "source": []
  }
 ],
 "metadata": {
  "kernelspec": {
   "display_name": "Python 3",
   "language": "python",
   "name": "python3"
  },
  "language_info": {
   "codemirror_mode": {
    "name": "ipython",
    "version": 3
   },
   "file_extension": ".py",
   "mimetype": "text/x-python",
   "name": "python",
   "nbconvert_exporter": "python",
   "pygments_lexer": "ipython3",
   "version": "3.5.2"
  },
  "toc": {
   "colors": {
    "hover_highlight": "#DAA520",
    "running_highlight": "#FF0000",
    "selected_highlight": "#FFD700"
   },
   "moveMenuLeft": true,
   "nav_menu": {
    "height": "2px",
    "width": "252px"
   },
   "navigate_menu": true,
   "number_sections": true,
   "sideBar": true,
   "threshold": 4,
   "toc_cell": false,
   "toc_section_display": "block",
   "toc_window_display": true,
   "widenNotebook": false
  }
 },
 "nbformat": 4,
 "nbformat_minor": 2
}
